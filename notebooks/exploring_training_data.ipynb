{
 "cells": [
  {
   "attachments": {},
   "cell_type": "markdown",
   "metadata": {},
   "source": [
    "# exploring_training_data.ipynb\n",
    "\n",
    "This notebook will soley focus on exploring the training data to find some relationships. We will develop plots and try to see how we can decrease our feature set (189 features!)."
   ]
  },
  {
   "cell_type": "code",
   "execution_count": 1,
   "metadata": {},
   "outputs": [],
   "source": [
    "# Importing libraries\n",
    "import pandas as pd\n",
    "import numpy as np\n",
    "import matplotlib.pyplot as plt\n",
    "import seaborn as sns\n",
    "\n",
    "%matplotlib inline"
   ]
  },
  {
   "cell_type": "code",
   "execution_count": 2,
   "metadata": {},
   "outputs": [
    {
     "data": {
      "text/html": [
       "<div>\n",
       "<style scoped>\n",
       "    .dataframe tbody tr th:only-of-type {\n",
       "        vertical-align: middle;\n",
       "    }\n",
       "\n",
       "    .dataframe tbody tr th {\n",
       "        vertical-align: top;\n",
       "    }\n",
       "\n",
       "    .dataframe thead th {\n",
       "        text-align: right;\n",
       "    }\n",
       "</style>\n",
       "<table border=\"1\" class=\"dataframe\">\n",
       "  <thead>\n",
       "    <tr style=\"text-align: right;\">\n",
       "      <th></th>\n",
       "      <th>Season</th>\n",
       "      <th>A_TeamID</th>\n",
       "      <th>A_Wins</th>\n",
       "      <th>A_Losses</th>\n",
       "      <th>A_Winning Percentage</th>\n",
       "      <th>A_Score_mean</th>\n",
       "      <th>A_FGM_mean</th>\n",
       "      <th>A_FGA_mean</th>\n",
       "      <th>A_FGM3_mean</th>\n",
       "      <th>A_FGA3_mean</th>\n",
       "      <th>...</th>\n",
       "      <th>B_DRPercent_std</th>\n",
       "      <th>B_AssistToTurnoverRatio_std</th>\n",
       "      <th>B_Possessions_std</th>\n",
       "      <th>B_OffEff_std</th>\n",
       "      <th>B_DefEff_std</th>\n",
       "      <th>B_TO%_std</th>\n",
       "      <th>B_PointDiff_std</th>\n",
       "      <th>B_OffensiveRating_std</th>\n",
       "      <th>B_DefensiveRating_std</th>\n",
       "      <th>LowerWin?</th>\n",
       "    </tr>\n",
       "  </thead>\n",
       "  <tbody>\n",
       "    <tr>\n",
       "      <th>1057</th>\n",
       "      <td>2019</td>\n",
       "      <td>1242</td>\n",
       "      <td>25</td>\n",
       "      <td>9</td>\n",
       "      <td>0.735294</td>\n",
       "      <td>75.382353</td>\n",
       "      <td>27.294118</td>\n",
       "      <td>59.058824</td>\n",
       "      <td>7.235294</td>\n",
       "      <td>20.647059</td>\n",
       "      <td>...</td>\n",
       "      <td>0.085358</td>\n",
       "      <td>0.881175</td>\n",
       "      <td>7.485740</td>\n",
       "      <td>25.135399</td>\n",
       "      <td>45.694237</td>\n",
       "      <td>0.139550</td>\n",
       "      <td>12.276641</td>\n",
       "      <td>62672.908339</td>\n",
       "      <td>241.659481</td>\n",
       "      <td>1</td>\n",
       "    </tr>\n",
       "    <tr>\n",
       "      <th>389</th>\n",
       "      <td>2009</td>\n",
       "      <td>1268</td>\n",
       "      <td>20</td>\n",
       "      <td>13</td>\n",
       "      <td>0.606061</td>\n",
       "      <td>71.454545</td>\n",
       "      <td>26.242424</td>\n",
       "      <td>62.242424</td>\n",
       "      <td>5.757576</td>\n",
       "      <td>17.393939</td>\n",
       "      <td>...</td>\n",
       "      <td>0.078869</td>\n",
       "      <td>0.705547</td>\n",
       "      <td>6.655313</td>\n",
       "      <td>24.918983</td>\n",
       "      <td>39.047405</td>\n",
       "      <td>0.144828</td>\n",
       "      <td>14.982651</td>\n",
       "      <td>74734.666567</td>\n",
       "      <td>214.844435</td>\n",
       "      <td>0</td>\n",
       "    </tr>\n",
       "    <tr>\n",
       "      <th>462</th>\n",
       "      <td>2010</td>\n",
       "      <td>1437</td>\n",
       "      <td>24</td>\n",
       "      <td>7</td>\n",
       "      <td>0.774194</td>\n",
       "      <td>82.548387</td>\n",
       "      <td>27.612903</td>\n",
       "      <td>59.419355</td>\n",
       "      <td>7.709677</td>\n",
       "      <td>20.483871</td>\n",
       "      <td>...</td>\n",
       "      <td>0.087327</td>\n",
       "      <td>0.424403</td>\n",
       "      <td>7.100498</td>\n",
       "      <td>37.001408</td>\n",
       "      <td>50.488806</td>\n",
       "      <td>0.204308</td>\n",
       "      <td>14.494452</td>\n",
       "      <td>69761.901114</td>\n",
       "      <td>327.624674</td>\n",
       "      <td>0</td>\n",
       "    </tr>\n",
       "    <tr>\n",
       "      <th>575</th>\n",
       "      <td>2011</td>\n",
       "      <td>1433</td>\n",
       "      <td>23</td>\n",
       "      <td>11</td>\n",
       "      <td>0.676471</td>\n",
       "      <td>71.529412</td>\n",
       "      <td>24.264706</td>\n",
       "      <td>55.764706</td>\n",
       "      <td>8.176471</td>\n",
       "      <td>22.764706</td>\n",
       "      <td>...</td>\n",
       "      <td>0.077266</td>\n",
       "      <td>0.637593</td>\n",
       "      <td>7.101537</td>\n",
       "      <td>35.161898</td>\n",
       "      <td>40.164503</td>\n",
       "      <td>0.164143</td>\n",
       "      <td>15.802057</td>\n",
       "      <td>79118.599885</td>\n",
       "      <td>797.290386</td>\n",
       "      <td>0</td>\n",
       "    </tr>\n",
       "    <tr>\n",
       "      <th>559</th>\n",
       "      <td>2011</td>\n",
       "      <td>1242</td>\n",
       "      <td>32</td>\n",
       "      <td>2</td>\n",
       "      <td>0.941176</td>\n",
       "      <td>82.382353</td>\n",
       "      <td>29.588235</td>\n",
       "      <td>57.617647</td>\n",
       "      <td>7.264706</td>\n",
       "      <td>18.764706</td>\n",
       "      <td>...</td>\n",
       "      <td>0.093458</td>\n",
       "      <td>0.415947</td>\n",
       "      <td>6.181710</td>\n",
       "      <td>39.174879</td>\n",
       "      <td>40.158152</td>\n",
       "      <td>0.132475</td>\n",
       "      <td>13.114723</td>\n",
       "      <td>90093.042575</td>\n",
       "      <td>502.405852</td>\n",
       "      <td>0</td>\n",
       "    </tr>\n",
       "  </tbody>\n",
       "</table>\n",
       "<p>5 rows × 190 columns</p>\n",
       "</div>"
      ],
      "text/plain": [
       "      Season  A_TeamID  A_Wins  A_Losses  A_Winning Percentage  A_Score_mean  \\\n",
       "1057    2019      1242      25         9              0.735294     75.382353   \n",
       "389     2009      1268      20        13              0.606061     71.454545   \n",
       "462     2010      1437      24         7              0.774194     82.548387   \n",
       "575     2011      1433      23        11              0.676471     71.529412   \n",
       "559     2011      1242      32         2              0.941176     82.382353   \n",
       "\n",
       "      A_FGM_mean  A_FGA_mean  A_FGM3_mean  A_FGA3_mean  ...  B_DRPercent_std  \\\n",
       "1057   27.294118   59.058824     7.235294    20.647059  ...         0.085358   \n",
       "389    26.242424   62.242424     5.757576    17.393939  ...         0.078869   \n",
       "462    27.612903   59.419355     7.709677    20.483871  ...         0.087327   \n",
       "575    24.264706   55.764706     8.176471    22.764706  ...         0.077266   \n",
       "559    29.588235   57.617647     7.264706    18.764706  ...         0.093458   \n",
       "\n",
       "      B_AssistToTurnoverRatio_std  B_Possessions_std  B_OffEff_std  \\\n",
       "1057                     0.881175           7.485740     25.135399   \n",
       "389                      0.705547           6.655313     24.918983   \n",
       "462                      0.424403           7.100498     37.001408   \n",
       "575                      0.637593           7.101537     35.161898   \n",
       "559                      0.415947           6.181710     39.174879   \n",
       "\n",
       "      B_DefEff_std  B_TO%_std  B_PointDiff_std  B_OffensiveRating_std  \\\n",
       "1057     45.694237   0.139550        12.276641           62672.908339   \n",
       "389      39.047405   0.144828        14.982651           74734.666567   \n",
       "462      50.488806   0.204308        14.494452           69761.901114   \n",
       "575      40.164503   0.164143        15.802057           79118.599885   \n",
       "559      40.158152   0.132475        13.114723           90093.042575   \n",
       "\n",
       "      B_DefensiveRating_std  LowerWin?  \n",
       "1057             241.659481          1  \n",
       "389              214.844435          0  \n",
       "462              327.624674          0  \n",
       "575              797.290386          0  \n",
       "559              502.405852          0  \n",
       "\n",
       "[5 rows x 190 columns]"
      ]
     },
     "execution_count": 2,
     "metadata": {},
     "output_type": "execute_result"
    }
   ],
   "source": [
    "# Getting the data\n",
    "raw_data = pd.read_csv('/Users/jinalshah/Jinal/Projects/march-madness-mania/preprocessed-data/modeling-data/training.csv',index_col=0)\n",
    "\n",
    "# Making sure the data loaded properly"
   ]
  },
  {
   "cell_type": "code",
   "execution_count": 3,
   "metadata": {},
   "outputs": [
    {
     "name": "stdout",
     "output_type": "stream",
     "text": [
      "Data Shape: (1606, 190)\n"
     ]
    }
   ],
   "source": [
    "# Displaying data shape to see what we are working with\n",
    "print(f'Data Shape: {raw_data.shape}')"
   ]
  },
  {
   "cell_type": "code",
   "execution_count": 6,
   "metadata": {},
   "outputs": [
    {
     "data": {
      "image/png": "[encoded data removed]",
      "text/plain": [
       "<Figure size 640x480 with 1 Axes>"
      ]
     },
     "metadata": {},
     "output_type": "display_data"
    }
   ],
   "source": [
    "# Seeing what the distribution of lower team wins is (how many times did the lower team win?)\n",
    "sns.countplot(data=raw_data,x='LowerWin?',orient='v')\n",
    "plt.title('Distribution of Target Variable')\n",
    "plt.savefig('/Users/jinalshah/Jinal/Projects/march-madness-mania/visualizations/target_dist.png')\n",
    "plt.show()"
   ]
  },
  {
   "cell_type": "code",
   "execution_count": 7,
   "metadata": {},
   "outputs": [
    {
     "data": {
      "text/plain": [
       "1    809\n",
       "0    797\n",
       "Name: LowerWin?, dtype: int64"
      ]
     },
     "execution_count": 7,
     "metadata": {},
     "output_type": "execute_result"
    }
   ],
   "source": [
    "# Seeing the actual counts because plot shows an even split\n",
    "raw_data['LowerWin?'].value_counts()"
   ]
  },
  {
   "cell_type": "code",
   "execution_count": 13,
   "metadata": {},
   "outputs": [
    {
     "data": {
      "text/plain": [
       "1057    1242\n",
       "389     1143\n",
       "462     1352\n",
       "575     1242\n",
       "559     1228\n",
       "        ... \n",
       "550     3113\n",
       "37      3246\n",
       "51      3211\n",
       "596     3390\n",
       "65      3132\n",
       "Length: 1606, dtype: int64"
      ]
     },
     "execution_count": 13,
     "metadata": {},
     "output_type": "execute_result"
    }
   ],
   "source": [
    "raw_data[['A_TeamID','B_TeamID']].min(axis=1)"
   ]
  },
  {
   "cell_type": "code",
   "execution_count": 14,
   "metadata": {},
   "outputs": [
    {
     "data": {
      "text/html": [
       "<div>\n",
       "<style scoped>\n",
       "    .dataframe tbody tr th:only-of-type {\n",
       "        vertical-align: middle;\n",
       "    }\n",
       "\n",
       "    .dataframe tbody tr th {\n",
       "        vertical-align: top;\n",
       "    }\n",
       "\n",
       "    .dataframe thead th {\n",
       "        text-align: right;\n",
       "    }\n",
       "</style>\n",
       "<table border=\"1\" class=\"dataframe\">\n",
       "  <thead>\n",
       "    <tr style=\"text-align: right;\">\n",
       "      <th></th>\n",
       "      <th>A_TeamID</th>\n",
       "      <th>B_TeamID</th>\n",
       "    </tr>\n",
       "  </thead>\n",
       "  <tbody>\n",
       "    <tr>\n",
       "      <th>1057</th>\n",
       "      <td>1242</td>\n",
       "      <td>1318</td>\n",
       "    </tr>\n",
       "    <tr>\n",
       "      <th>389</th>\n",
       "      <td>1268</td>\n",
       "      <td>1143</td>\n",
       "    </tr>\n",
       "    <tr>\n",
       "      <th>462</th>\n",
       "      <td>1437</td>\n",
       "      <td>1352</td>\n",
       "    </tr>\n",
       "    <tr>\n",
       "      <th>575</th>\n",
       "      <td>1433</td>\n",
       "      <td>1242</td>\n",
       "    </tr>\n",
       "    <tr>\n",
       "      <th>559</th>\n",
       "      <td>1242</td>\n",
       "      <td>1228</td>\n",
       "    </tr>\n",
       "  </tbody>\n",
       "</table>\n",
       "</div>"
      ],
      "text/plain": [
       "      A_TeamID  B_TeamID\n",
       "1057      1242      1318\n",
       "389       1268      1143\n",
       "462       1437      1352\n",
       "575       1433      1242\n",
       "559       1242      1228"
      ]
     },
     "execution_count": 14,
     "metadata": {},
     "output_type": "execute_result"
    }
   ],
   "source": [
    "raw_data[['A_TeamID','B_TeamID']].head()"
   ]
  },
  {
   "cell_type": "code",
   "execution_count": 17,
   "metadata": {},
   "outputs": [
    {
     "data": {
      "text/plain": [
       "1057    1318\n",
       "389     1268\n",
       "462     1437\n",
       "575     1433\n",
       "559     1242\n",
       "        ... \n",
       "550     3400\n",
       "37      3277\n",
       "51      3462\n",
       "596     3413\n",
       "65      3210\n",
       "Length: 1606, dtype: int64"
      ]
     },
     "execution_count": 17,
     "metadata": {},
     "output_type": "execute_result"
    }
   ],
   "source": [
    "raw_data[['A_TeamID','B_TeamID']].max(axis=1)"
   ]
  },
  {
   "cell_type": "code",
   "execution_count": null,
   "metadata": {},
   "outputs": [],
   "source": []
  }
 ],
 "metadata": {
  "kernelspec": {
   "display_name": "march-madness-mania",
   "language": "python",
   "name": "python3"
  },
  "language_info": {
   "codemirror_mode": {
    "name": "ipython",
    "version": 3
   },
   "file_extension": ".py",
   "mimetype": "text/x-python",
   "name": "python",
   "nbconvert_exporter": "python",
   "pygments_lexer": "ipython3",
   "version": "3.10.9"
  },
  "orig_nbformat": 4,
  "vscode": {
   "interpreter": {
    "hash": "cd35a392fde1dc673d11d63530ba2243a9ec2532d473e3b8a20605e035add6e4"
   }
  }
 },
 "nbformat": 4,
 "nbformat_minor": 2
}
