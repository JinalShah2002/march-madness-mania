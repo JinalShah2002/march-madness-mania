{
 "cells": [
  {
   "attachments": {},
   "cell_type": "markdown",
   "metadata": {},
   "source": [
    "# modeling_with_pca.ipynb\n",
    "\n",
    "The best validation accuracy is around 68%. I suspect this is a consequence of having roughly 190 features. Let me perform the same modeling, but this time I run the data through the PCA dimensionality reduction algorithm to see if there are any improvements."
   ]
  },
  {
   "cell_type": "code",
   "execution_count": 94,
   "metadata": {},
   "outputs": [],
   "source": [
    "# Importing libraries\n",
    "import pandas as pd\n",
    "import numpy as np \n",
    "import matplotlib.pyplot as plt\n",
    "import seaborn as sns\n",
    "from sklearn.preprocessing import OneHotEncoder, StandardScaler\n",
    "from sklearn.compose import ColumnTransformer\n",
    "from sklearn.dummy import DummyClassifier\n",
    "from sklearn.metrics import brier_score_loss, accuracy_score\n",
    "from sklearn.model_selection import cross_validate\n",
    "from sklearn.decomposition import PCA\n",
    "from sklearn.linear_model import LogisticRegression\n",
    "from sklearn.ensemble import RandomForestClassifier\n",
    "from sklearn.tree import DecisionTreeClassifier\n",
    "from sklearn.svm import SVC\n",
    "\n",
    "%matplotlib inline"
   ]
  },
  {
   "cell_type": "code",
   "execution_count": 23,
   "metadata": {},
   "outputs": [
    {
     "data": {
      "text/html": [
       "<div>\n",
       "<style scoped>\n",
       "    .dataframe tbody tr th:only-of-type {\n",
       "        vertical-align: middle;\n",
       "    }\n",
       "\n",
       "    .dataframe tbody tr th {\n",
       "        vertical-align: top;\n",
       "    }\n",
       "\n",
       "    .dataframe thead th {\n",
       "        text-align: right;\n",
       "    }\n",
       "</style>\n",
       "<table border=\"1\" class=\"dataframe\">\n",
       "  <thead>\n",
       "    <tr style=\"text-align: right;\">\n",
       "      <th></th>\n",
       "      <th>Season</th>\n",
       "      <th>lower_TeamID</th>\n",
       "      <th>lower_Wins</th>\n",
       "      <th>lower_Losses</th>\n",
       "      <th>lower_Winning Percentage</th>\n",
       "      <th>lower_Score_mean</th>\n",
       "      <th>lower_FGM_mean</th>\n",
       "      <th>lower_FGA_mean</th>\n",
       "      <th>lower_FGM3_mean</th>\n",
       "      <th>lower_FGA3_mean</th>\n",
       "      <th>...</th>\n",
       "      <th>higher_AssistToTurnoverRatio_std</th>\n",
       "      <th>higher_Possessions_std</th>\n",
       "      <th>higher_OffEff_std</th>\n",
       "      <th>higher_DefEff_std</th>\n",
       "      <th>higher_TO%_std</th>\n",
       "      <th>higher_PointDiff_std</th>\n",
       "      <th>higher_OffensiveRating_std</th>\n",
       "      <th>higher_DefensiveRating_std</th>\n",
       "      <th>Bracket</th>\n",
       "      <th>LowerWin?</th>\n",
       "    </tr>\n",
       "  </thead>\n",
       "  <tbody>\n",
       "    <tr>\n",
       "      <th>1057</th>\n",
       "      <td>2019</td>\n",
       "      <td>1242</td>\n",
       "      <td>25</td>\n",
       "      <td>9</td>\n",
       "      <td>0.73529</td>\n",
       "      <td>75.38235</td>\n",
       "      <td>27.29412</td>\n",
       "      <td>59.05882</td>\n",
       "      <td>7.23529</td>\n",
       "      <td>20.64706</td>\n",
       "      <td>...</td>\n",
       "      <td>0.88118</td>\n",
       "      <td>7.48574</td>\n",
       "      <td>25.13540</td>\n",
       "      <td>45.69424</td>\n",
       "      <td>0.13955</td>\n",
       "      <td>12.27664</td>\n",
       "      <td>62672.90834</td>\n",
       "      <td>241.65948</td>\n",
       "      <td>M</td>\n",
       "      <td>1</td>\n",
       "    </tr>\n",
       "    <tr>\n",
       "      <th>389</th>\n",
       "      <td>2009</td>\n",
       "      <td>1143</td>\n",
       "      <td>22</td>\n",
       "      <td>10</td>\n",
       "      <td>0.68750</td>\n",
       "      <td>75.03125</td>\n",
       "      <td>27.09375</td>\n",
       "      <td>55.90625</td>\n",
       "      <td>6.34375</td>\n",
       "      <td>14.62500</td>\n",
       "      <td>...</td>\n",
       "      <td>0.48346</td>\n",
       "      <td>5.70708</td>\n",
       "      <td>24.85725</td>\n",
       "      <td>37.92210</td>\n",
       "      <td>0.10183</td>\n",
       "      <td>17.02204</td>\n",
       "      <td>56403.38440</td>\n",
       "      <td>586.62096</td>\n",
       "      <td>M</td>\n",
       "      <td>0</td>\n",
       "    </tr>\n",
       "    <tr>\n",
       "      <th>462</th>\n",
       "      <td>2010</td>\n",
       "      <td>1352</td>\n",
       "      <td>23</td>\n",
       "      <td>11</td>\n",
       "      <td>0.67647</td>\n",
       "      <td>68.50000</td>\n",
       "      <td>23.32353</td>\n",
       "      <td>53.32353</td>\n",
       "      <td>5.64706</td>\n",
       "      <td>15.47059</td>\n",
       "      <td>...</td>\n",
       "      <td>0.43535</td>\n",
       "      <td>5.96692</td>\n",
       "      <td>31.32572</td>\n",
       "      <td>35.56787</td>\n",
       "      <td>0.12975</td>\n",
       "      <td>14.41848</td>\n",
       "      <td>66317.66544</td>\n",
       "      <td>600.24611</td>\n",
       "      <td>M</td>\n",
       "      <td>0</td>\n",
       "    </tr>\n",
       "    <tr>\n",
       "      <th>575</th>\n",
       "      <td>2011</td>\n",
       "      <td>1242</td>\n",
       "      <td>32</td>\n",
       "      <td>2</td>\n",
       "      <td>0.94118</td>\n",
       "      <td>82.38235</td>\n",
       "      <td>29.58824</td>\n",
       "      <td>57.61765</td>\n",
       "      <td>7.26471</td>\n",
       "      <td>18.76471</td>\n",
       "      <td>...</td>\n",
       "      <td>0.54080</td>\n",
       "      <td>7.14006</td>\n",
       "      <td>34.33550</td>\n",
       "      <td>38.46180</td>\n",
       "      <td>0.15237</td>\n",
       "      <td>10.11859</td>\n",
       "      <td>49478.63714</td>\n",
       "      <td>459.16589</td>\n",
       "      <td>M</td>\n",
       "      <td>0</td>\n",
       "    </tr>\n",
       "    <tr>\n",
       "      <th>559</th>\n",
       "      <td>2011</td>\n",
       "      <td>1228</td>\n",
       "      <td>19</td>\n",
       "      <td>13</td>\n",
       "      <td>0.59375</td>\n",
       "      <td>71.28125</td>\n",
       "      <td>26.34375</td>\n",
       "      <td>56.34375</td>\n",
       "      <td>6.84375</td>\n",
       "      <td>17.68750</td>\n",
       "      <td>...</td>\n",
       "      <td>0.63759</td>\n",
       "      <td>7.10154</td>\n",
       "      <td>35.16190</td>\n",
       "      <td>40.16450</td>\n",
       "      <td>0.16414</td>\n",
       "      <td>15.80206</td>\n",
       "      <td>79118.59988</td>\n",
       "      <td>797.29039</td>\n",
       "      <td>M</td>\n",
       "      <td>0</td>\n",
       "    </tr>\n",
       "  </tbody>\n",
       "</table>\n",
       "<p>5 rows × 191 columns</p>\n",
       "</div>"
      ],
      "text/plain": [
       "      Season  lower_TeamID  lower_Wins  lower_Losses  \\\n",
       "1057    2019          1242          25             9   \n",
       "389     2009          1143          22            10   \n",
       "462     2010          1352          23            11   \n",
       "575     2011          1242          32             2   \n",
       "559     2011          1228          19            13   \n",
       "\n",
       "      lower_Winning Percentage  lower_Score_mean  lower_FGM_mean  \\\n",
       "1057                   0.73529          75.38235        27.29412   \n",
       "389                    0.68750          75.03125        27.09375   \n",
       "462                    0.67647          68.50000        23.32353   \n",
       "575                    0.94118          82.38235        29.58824   \n",
       "559                    0.59375          71.28125        26.34375   \n",
       "\n",
       "      lower_FGA_mean  lower_FGM3_mean  lower_FGA3_mean  ...  \\\n",
       "1057        59.05882          7.23529         20.64706  ...   \n",
       "389         55.90625          6.34375         14.62500  ...   \n",
       "462         53.32353          5.64706         15.47059  ...   \n",
       "575         57.61765          7.26471         18.76471  ...   \n",
       "559         56.34375          6.84375         17.68750  ...   \n",
       "\n",
       "      higher_AssistToTurnoverRatio_std  higher_Possessions_std  \\\n",
       "1057                           0.88118                 7.48574   \n",
       "389                            0.48346                 5.70708   \n",
       "462                            0.43535                 5.96692   \n",
       "575                            0.54080                 7.14006   \n",
       "559                            0.63759                 7.10154   \n",
       "\n",
       "      higher_OffEff_std  higher_DefEff_std  higher_TO%_std  \\\n",
       "1057           25.13540           45.69424         0.13955   \n",
       "389            24.85725           37.92210         0.10183   \n",
       "462            31.32572           35.56787         0.12975   \n",
       "575            34.33550           38.46180         0.15237   \n",
       "559            35.16190           40.16450         0.16414   \n",
       "\n",
       "      higher_PointDiff_std  higher_OffensiveRating_std  \\\n",
       "1057              12.27664                 62672.90834   \n",
       "389               17.02204                 56403.38440   \n",
       "462               14.41848                 66317.66544   \n",
       "575               10.11859                 49478.63714   \n",
       "559               15.80206                 79118.59988   \n",
       "\n",
       "      higher_DefensiveRating_std  Bracket  LowerWin?  \n",
       "1057                   241.65948        M          1  \n",
       "389                    586.62096        M          0  \n",
       "462                    600.24611        M          0  \n",
       "575                    459.16589        M          0  \n",
       "559                    797.29039        M          0  \n",
       "\n",
       "[5 rows x 191 columns]"
      ]
     },
     "execution_count": 23,
     "metadata": {},
     "output_type": "execute_result"
    }
   ],
   "source": [
    "# Getting the training data\n",
    "training_data = pd.read_csv('/Users/jinalshah/Jinal/Projects/march-madness-mania/preprocessed-data/modeling-data/training.csv',index_col=0)\n",
    "\n",
    "# Making sure the data loaded correctly\n",
    "training_data.head()"
   ]
  },
  {
   "attachments": {},
   "cell_type": "markdown",
   "metadata": {},
   "source": [
    "## Data Preprocessing\n",
    "\n",
    "We need to preprocess the data a little bit so let's do that!\n",
    "\n",
    "Preprocessing that needs to be done:\n",
    "- Dropping the identifiers (lower_TeamID,higher_TeamID)\n",
    "- Converting Season into a number for how many seasons back the data is from (-1 = last season, -2 = 2 seasons ago, etc)\n",
    "- Converting Bracket into dummy variables\n",
    "- Scaling all numerical values by z-score to gain a normal distribution and all numbers on the same scale.\n",
    "\n",
    "(Will convert to script later)"
   ]
  },
  {
   "cell_type": "code",
   "execution_count": 24,
   "metadata": {},
   "outputs": [],
   "source": [
    "# Making a copy of the training set \n",
    "training_data_preprocessed = training_data.copy()\n",
    "\n",
    "# Dropping the unnecessary features\n",
    "training_data_preprocessed.drop(['lower_TeamID','higher_TeamID'],axis=1,inplace=True)\n",
    "\n",
    "# Converting Season into numbers\n",
    "training_data_preprocessed['Season_converted'] = training_data_preprocessed['Season'] - 2023.0\n",
    "training_data_preprocessed.drop(['Season'],axis=1,inplace=True)\n",
    "\n",
    "# Splitting data into features matrix and target\n",
    "features = training_data_preprocessed.drop(['LowerWin?'],axis=1)\n",
    "target = training_data_preprocessed['LowerWin?']\n",
    "\n",
    "# Splitting data into numerical and categorical\n",
    "categorical = ['Bracket']\n",
    "numerical = list(features.columns)\n",
    "numerical.remove('Bracket')"
   ]
  },
  {
   "cell_type": "code",
   "execution_count": 25,
   "metadata": {},
   "outputs": [],
   "source": [
    "# Building a pipeline to perform all the appropriate transformations\n",
    "preprocessing_pipeline = ColumnTransformer(transformers=[\n",
    "    ('scaler',StandardScaler(with_mean=True,with_std=True),numerical),\n",
    "    ('encoder',OneHotEncoder(),categorical)\n",
    "],remainder='passthrough',n_jobs=-1,verbose=True)"
   ]
  },
  {
   "cell_type": "code",
   "execution_count": 26,
   "metadata": {},
   "outputs": [
    {
     "name": "stdout",
     "output_type": "stream",
     "text": [
      "[ColumnTransformer] ....... (2 of 2) Processing encoder, total=   0.0s\n",
      "[ColumnTransformer] ........ (1 of 2) Processing scaler, total=   0.0s\n"
     ]
    },
    {
     "data": {
      "text/plain": [
       "array([[ 0.23655977,  0.5006731 , -0.28877454, ...,  1.03353159,\n",
       "         1.        ,  0.        ],\n",
       "       [-0.49451463,  0.78784489, -0.72021046, ..., -0.86041151,\n",
       "         1.        ,  0.        ],\n",
       "       [-0.25082316,  1.07501668, -0.8197726 , ..., -0.6710172 ,\n",
       "         1.        ,  0.        ],\n",
       "       ...,\n",
       "       [ 0.72394271, -0.93518583,  0.93594679, ..., -0.6710172 ,\n",
       "         0.        ,  1.        ],\n",
       "       [ 0.96763417, -0.93518583,  0.97234585, ...,  1.03353159,\n",
       "         0.        ,  1.        ],\n",
       "       [ 0.96763417, -0.93518583,  0.97234585, ..., -0.48162289,\n",
       "         0.        ,  1.        ]])"
      ]
     },
     "execution_count": 26,
     "metadata": {},
     "output_type": "execute_result"
    }
   ],
   "source": [
    "# Transforming the feature matrix via the pipeline\n",
    "features_preprocessed = preprocessing_pipeline.fit_transform(features)\n",
    "\n",
    "# Making sure fitting happened properly\n",
    "features_preprocessed"
   ]
  },
  {
   "cell_type": "code",
   "execution_count": 27,
   "metadata": {},
   "outputs": [
    {
     "data": {
      "text/plain": [
       "(1606, 189)"
      ]
     },
     "execution_count": 27,
     "metadata": {},
     "output_type": "execute_result"
    }
   ],
   "source": [
    "# Dimensions before PCA\n",
    "features_preprocessed.shape"
   ]
  },
  {
   "cell_type": "code",
   "execution_count": 71,
   "metadata": {},
   "outputs": [],
   "source": [
    "# Running the data through PCA to reduce the dimensions\n",
    "pca = PCA(n_components=100,random_state=42)\n",
    "features_preprocessed_pca = pca.fit_transform(features_preprocessed)"
   ]
  },
  {
   "cell_type": "code",
   "execution_count": 72,
   "metadata": {},
   "outputs": [
    {
     "data": {
      "text/plain": [
       "(1606, 100)"
      ]
     },
     "execution_count": 72,
     "metadata": {},
     "output_type": "execute_result"
    }
   ],
   "source": [
    "# Dimensions after PCA\n",
    "features_preprocessed_pca.shape"
   ]
  },
  {
   "cell_type": "code",
   "execution_count": 73,
   "metadata": {},
   "outputs": [
    {
     "data": {
      "text/html": [
       "<style>#sk-container-id-9 {color: black;background-color: white;}#sk-container-id-9 pre{padding: 0;}#sk-container-id-9 div.sk-toggleable {background-color: white;}#sk-container-id-9 label.sk-toggleable__label {cursor: pointer;display: block;width: 100%;margin-bottom: 0;padding: 0.3em;box-sizing: border-box;text-align: center;}#sk-container-id-9 label.sk-toggleable__label-arrow:before {content: \"▸\";float: left;margin-right: 0.25em;color: #696969;}#sk-container-id-9 label.sk-toggleable__label-arrow:hover:before {color: black;}#sk-container-id-9 div.sk-estimator:hover label.sk-toggleable__label-arrow:before {color: black;}#sk-container-id-9 div.sk-toggleable__content {max-height: 0;max-width: 0;overflow: hidden;text-align: left;background-color: #f0f8ff;}#sk-container-id-9 div.sk-toggleable__content pre {margin: 0.2em;color: black;border-radius: 0.25em;background-color: #f0f8ff;}#sk-container-id-9 input.sk-toggleable__control:checked~div.sk-toggleable__content {max-height: 200px;max-width: 100%;overflow: auto;}#sk-container-id-9 input.sk-toggleable__control:checked~label.sk-toggleable__label-arrow:before {content: \"▾\";}#sk-container-id-9 div.sk-estimator input.sk-toggleable__control:checked~label.sk-toggleable__label {background-color: #d4ebff;}#sk-container-id-9 div.sk-label input.sk-toggleable__control:checked~label.sk-toggleable__label {background-color: #d4ebff;}#sk-container-id-9 input.sk-hidden--visually {border: 0;clip: rect(1px 1px 1px 1px);clip: rect(1px, 1px, 1px, 1px);height: 1px;margin: -1px;overflow: hidden;padding: 0;position: absolute;width: 1px;}#sk-container-id-9 div.sk-estimator {font-family: monospace;background-color: #f0f8ff;border: 1px dotted black;border-radius: 0.25em;box-sizing: border-box;margin-bottom: 0.5em;}#sk-container-id-9 div.sk-estimator:hover {background-color: #d4ebff;}#sk-container-id-9 div.sk-parallel-item::after {content: \"\";width: 100%;border-bottom: 1px solid gray;flex-grow: 1;}#sk-container-id-9 div.sk-label:hover label.sk-toggleable__label {background-color: #d4ebff;}#sk-container-id-9 div.sk-serial::before {content: \"\";position: absolute;border-left: 1px solid gray;box-sizing: border-box;top: 0;bottom: 0;left: 50%;z-index: 0;}#sk-container-id-9 div.sk-serial {display: flex;flex-direction: column;align-items: center;background-color: white;padding-right: 0.2em;padding-left: 0.2em;position: relative;}#sk-container-id-9 div.sk-item {position: relative;z-index: 1;}#sk-container-id-9 div.sk-parallel {display: flex;align-items: stretch;justify-content: center;background-color: white;position: relative;}#sk-container-id-9 div.sk-item::before, #sk-container-id-9 div.sk-parallel-item::before {content: \"\";position: absolute;border-left: 1px solid gray;box-sizing: border-box;top: 0;bottom: 0;left: 50%;z-index: -1;}#sk-container-id-9 div.sk-parallel-item {display: flex;flex-direction: column;z-index: 1;position: relative;background-color: white;}#sk-container-id-9 div.sk-parallel-item:first-child::after {align-self: flex-end;width: 50%;}#sk-container-id-9 div.sk-parallel-item:last-child::after {align-self: flex-start;width: 50%;}#sk-container-id-9 div.sk-parallel-item:only-child::after {width: 0;}#sk-container-id-9 div.sk-dashed-wrapped {border: 1px dashed gray;margin: 0 0.4em 0.5em 0.4em;box-sizing: border-box;padding-bottom: 0.4em;background-color: white;}#sk-container-id-9 div.sk-label label {font-family: monospace;font-weight: bold;display: inline-block;line-height: 1.2em;}#sk-container-id-9 div.sk-label-container {text-align: center;}#sk-container-id-9 div.sk-container {/* jupyter's `normalize.less` sets `[hidden] { display: none; }` but bootstrap.min.css set `[hidden] { display: none !important; }` so we also need the `!important` here to be able to override the default hidden behavior on the sphinx rendered scikit-learn.org. See: https://github.com/scikit-learn/scikit-learn/issues/21755 */display: inline-block !important;position: relative;}#sk-container-id-9 div.sk-text-repr-fallback {display: none;}</style><div id=\"sk-container-id-9\" class=\"sk-top-container\"><div class=\"sk-text-repr-fallback\"><pre>LogisticRegression(C=0.5, max_iter=1000, n_jobs=-1, random_state=42)</pre><b>In a Jupyter environment, please rerun this cell to show the HTML representation or trust the notebook. <br />On GitHub, the HTML representation is unable to render, please try loading this page with nbviewer.org.</b></div><div class=\"sk-container\" hidden><div class=\"sk-item\"><div class=\"sk-estimator sk-toggleable\"><input class=\"sk-toggleable__control sk-hidden--visually\" id=\"sk-estimator-id-9\" type=\"checkbox\" checked><label for=\"sk-estimator-id-9\" class=\"sk-toggleable__label sk-toggleable__label-arrow\">LogisticRegression</label><div class=\"sk-toggleable__content\"><pre>LogisticRegression(C=0.5, max_iter=1000, n_jobs=-1, random_state=42)</pre></div></div></div></div></div>"
      ],
      "text/plain": [
       "LogisticRegression(C=0.5, max_iter=1000, n_jobs=-1, random_state=42)"
      ]
     },
     "execution_count": 73,
     "metadata": {},
     "output_type": "execute_result"
    }
   ],
   "source": [
    "# Performing a test using logistic regression to see if PCA helps\n",
    "# log_reg = LogisticRegression(penalty='None',random_state=42,max_iter=1000,n_jobs=-1)\n",
    "log_reg = LogisticRegression(penalty='l2',C=0.5,random_state=42,max_iter=1000,n_jobs=-1)\n",
    "log_reg.fit(features_preprocessed_pca,target)"
   ]
  },
  {
   "cell_type": "code",
   "execution_count": 74,
   "metadata": {},
   "outputs": [],
   "source": [
    "# Creating a dictionary that holds various metrics\n",
    "metrics = {'Model':[],'Brier Score Training':[],'Mean Brier Score CV':[], 'Accuracy Training':[],'Mean Accuracy CV':[]}"
   ]
  },
  {
   "cell_type": "code",
   "execution_count": 75,
   "metadata": {},
   "outputs": [],
   "source": [
    "# Getting training scores\n",
    "train_pred = log_reg.predict(features_preprocessed_pca)\n",
    "train_probs = log_reg.predict_proba(features_preprocessed_pca)[:,1]\n",
    "\n",
    "# Getting the metrics\n",
    "train_brier = brier_score_loss(target,train_probs)\n",
    "train_accuracy = accuracy_score(target,train_pred)\n",
    "\n",
    "# Adding metrics to the dictionary\n",
    "model_list = metrics['Model']\n",
    "model_list.append('Logistic Regression')\n",
    "metrics['Model'] = model_list\n",
    "train_briers = metrics['Brier Score Training']\n",
    "train_briers.append(train_brier)\n",
    "metrics['Brier Score Training'] = train_briers\n",
    "train_accuracies = metrics['Accuracy Training']\n",
    "train_accuracies.append(train_accuracy)\n",
    "metrics['Accuracy Training'] = train_accuracies"
   ]
  },
  {
   "cell_type": "code",
   "execution_count": 76,
   "metadata": {},
   "outputs": [],
   "source": [
    "# Getting the results and adding it to the dictionary\n",
    "results = cross_validate(log_reg,features_preprocessed_pca,target,scoring=['accuracy','neg_brier_score'],\n",
    "                         cv=5,n_jobs=-1)\n",
    "\n",
    "cv_briers = metrics['Mean Brier Score CV']\n",
    "cv_briers.append((-1*results['test_neg_brier_score']).mean())\n",
    "metrics['Mean Brier Score CV'] = cv_briers\n",
    "cv_accuracies = metrics['Mean Accuracy CV']\n",
    "cv_accuracies.append((results['test_accuracy']).mean())\n",
    "metrics['Mean Accuracy CV'] = cv_accuracies"
   ]
  },
  {
   "cell_type": "code",
   "execution_count": 77,
   "metadata": {},
   "outputs": [
    {
     "data": {
      "text/html": [
       "<style>#sk-container-id-10 {color: black;background-color: white;}#sk-container-id-10 pre{padding: 0;}#sk-container-id-10 div.sk-toggleable {background-color: white;}#sk-container-id-10 label.sk-toggleable__label {cursor: pointer;display: block;width: 100%;margin-bottom: 0;padding: 0.3em;box-sizing: border-box;text-align: center;}#sk-container-id-10 label.sk-toggleable__label-arrow:before {content: \"▸\";float: left;margin-right: 0.25em;color: #696969;}#sk-container-id-10 label.sk-toggleable__label-arrow:hover:before {color: black;}#sk-container-id-10 div.sk-estimator:hover label.sk-toggleable__label-arrow:before {color: black;}#sk-container-id-10 div.sk-toggleable__content {max-height: 0;max-width: 0;overflow: hidden;text-align: left;background-color: #f0f8ff;}#sk-container-id-10 div.sk-toggleable__content pre {margin: 0.2em;color: black;border-radius: 0.25em;background-color: #f0f8ff;}#sk-container-id-10 input.sk-toggleable__control:checked~div.sk-toggleable__content {max-height: 200px;max-width: 100%;overflow: auto;}#sk-container-id-10 input.sk-toggleable__control:checked~label.sk-toggleable__label-arrow:before {content: \"▾\";}#sk-container-id-10 div.sk-estimator input.sk-toggleable__control:checked~label.sk-toggleable__label {background-color: #d4ebff;}#sk-container-id-10 div.sk-label input.sk-toggleable__control:checked~label.sk-toggleable__label {background-color: #d4ebff;}#sk-container-id-10 input.sk-hidden--visually {border: 0;clip: rect(1px 1px 1px 1px);clip: rect(1px, 1px, 1px, 1px);height: 1px;margin: -1px;overflow: hidden;padding: 0;position: absolute;width: 1px;}#sk-container-id-10 div.sk-estimator {font-family: monospace;background-color: #f0f8ff;border: 1px dotted black;border-radius: 0.25em;box-sizing: border-box;margin-bottom: 0.5em;}#sk-container-id-10 div.sk-estimator:hover {background-color: #d4ebff;}#sk-container-id-10 div.sk-parallel-item::after {content: \"\";width: 100%;border-bottom: 1px solid gray;flex-grow: 1;}#sk-container-id-10 div.sk-label:hover label.sk-toggleable__label {background-color: #d4ebff;}#sk-container-id-10 div.sk-serial::before {content: \"\";position: absolute;border-left: 1px solid gray;box-sizing: border-box;top: 0;bottom: 0;left: 50%;z-index: 0;}#sk-container-id-10 div.sk-serial {display: flex;flex-direction: column;align-items: center;background-color: white;padding-right: 0.2em;padding-left: 0.2em;position: relative;}#sk-container-id-10 div.sk-item {position: relative;z-index: 1;}#sk-container-id-10 div.sk-parallel {display: flex;align-items: stretch;justify-content: center;background-color: white;position: relative;}#sk-container-id-10 div.sk-item::before, #sk-container-id-10 div.sk-parallel-item::before {content: \"\";position: absolute;border-left: 1px solid gray;box-sizing: border-box;top: 0;bottom: 0;left: 50%;z-index: -1;}#sk-container-id-10 div.sk-parallel-item {display: flex;flex-direction: column;z-index: 1;position: relative;background-color: white;}#sk-container-id-10 div.sk-parallel-item:first-child::after {align-self: flex-end;width: 50%;}#sk-container-id-10 div.sk-parallel-item:last-child::after {align-self: flex-start;width: 50%;}#sk-container-id-10 div.sk-parallel-item:only-child::after {width: 0;}#sk-container-id-10 div.sk-dashed-wrapped {border: 1px dashed gray;margin: 0 0.4em 0.5em 0.4em;box-sizing: border-box;padding-bottom: 0.4em;background-color: white;}#sk-container-id-10 div.sk-label label {font-family: monospace;font-weight: bold;display: inline-block;line-height: 1.2em;}#sk-container-id-10 div.sk-label-container {text-align: center;}#sk-container-id-10 div.sk-container {/* jupyter's `normalize.less` sets `[hidden] { display: none; }` but bootstrap.min.css set `[hidden] { display: none !important; }` so we also need the `!important` here to be able to override the default hidden behavior on the sphinx rendered scikit-learn.org. See: https://github.com/scikit-learn/scikit-learn/issues/21755 */display: inline-block !important;position: relative;}#sk-container-id-10 div.sk-text-repr-fallback {display: none;}</style><div id=\"sk-container-id-10\" class=\"sk-top-container\"><div class=\"sk-text-repr-fallback\"><pre>RandomForestClassifier(max_samples=0.7, n_estimators=1000, n_jobs=-1)</pre><b>In a Jupyter environment, please rerun this cell to show the HTML representation or trust the notebook. <br />On GitHub, the HTML representation is unable to render, please try loading this page with nbviewer.org.</b></div><div class=\"sk-container\" hidden><div class=\"sk-item\"><div class=\"sk-estimator sk-toggleable\"><input class=\"sk-toggleable__control sk-hidden--visually\" id=\"sk-estimator-id-10\" type=\"checkbox\" checked><label for=\"sk-estimator-id-10\" class=\"sk-toggleable__label sk-toggleable__label-arrow\">RandomForestClassifier</label><div class=\"sk-toggleable__content\"><pre>RandomForestClassifier(max_samples=0.7, n_estimators=1000, n_jobs=-1)</pre></div></div></div></div></div>"
      ],
      "text/plain": [
       "RandomForestClassifier(max_samples=0.7, n_estimators=1000, n_jobs=-1)"
      ]
     },
     "execution_count": 77,
     "metadata": {},
     "output_type": "execute_result"
    }
   ],
   "source": [
    "# Performing a test using random forest to see if PCA helps\n",
    "forest = RandomForestClassifier(n_estimators=1000,criterion='gini',n_jobs=-1,max_samples=0.7)\n",
    "forest.fit(features_preprocessed_pca,target)"
   ]
  },
  {
   "cell_type": "code",
   "execution_count": 78,
   "metadata": {},
   "outputs": [],
   "source": [
    "# Getting training scores\n",
    "train_pred = forest.predict(features_preprocessed_pca)\n",
    "train_probs = forest.predict_proba(features_preprocessed_pca)[:,1]\n",
    "\n",
    "# Getting the metrics\n",
    "train_brier = brier_score_loss(target,train_probs)\n",
    "train_accuracy = accuracy_score(target,train_pred)\n",
    "\n",
    "# Adding metrics to the dictionary\n",
    "model_list = metrics['Model']\n",
    "model_list.append('Random Forest')\n",
    "metrics['Model'] = model_list\n",
    "train_briers = metrics['Brier Score Training']\n",
    "train_briers.append(train_brier)\n",
    "metrics['Brier Score Training'] = train_briers\n",
    "train_accuracies = metrics['Accuracy Training']\n",
    "train_accuracies.append(train_accuracy)\n",
    "metrics['Accuracy Training'] = train_accuracies"
   ]
  },
  {
   "cell_type": "code",
   "execution_count": 79,
   "metadata": {},
   "outputs": [],
   "source": [
    "# Getting the results and adding it to the dictionary\n",
    "results = cross_validate(forest,features_preprocessed_pca,target,scoring=['accuracy','neg_brier_score'],\n",
    "                         cv=5,n_jobs=-1)\n",
    "\n",
    "cv_briers = metrics['Mean Brier Score CV']\n",
    "cv_briers.append((-1*results['test_neg_brier_score']).mean())\n",
    "metrics['Mean Brier Score CV'] = cv_briers\n",
    "cv_accuracies = metrics['Mean Accuracy CV']\n",
    "cv_accuracies.append((results['test_accuracy']).mean())\n",
    "metrics['Mean Accuracy CV'] = cv_accuracies"
   ]
  },
  {
   "cell_type": "code",
   "execution_count": 83,
   "metadata": {},
   "outputs": [
    {
     "data": {
      "text/plain": [
       "0.5977446072277257"
      ]
     },
     "execution_count": 83,
     "metadata": {},
     "output_type": "execute_result"
    }
   ],
   "source": [
    "res = cross_validate(log_reg,features_preprocessed_pca,target,scoring=['neg_log_loss'],\n",
    "                         cv=5,n_jobs=-1)\n",
    "(-1 * res['test_neg_log_loss']).mean()"
   ]
  },
  {
   "cell_type": "code",
   "execution_count": 84,
   "metadata": {},
   "outputs": [
    {
     "data": {
      "text/plain": [
       "0.6429430259338592"
      ]
     },
     "execution_count": 84,
     "metadata": {},
     "output_type": "execute_result"
    }
   ],
   "source": [
    "res = cross_validate(forest,features_preprocessed_pca,target,scoring=['neg_log_loss'],\n",
    "                         cv=5,n_jobs=-1)\n",
    "(-1 * res['test_neg_log_loss']).mean()"
   ]
  },
  {
   "cell_type": "code",
   "execution_count": 90,
   "metadata": {},
   "outputs": [
    {
     "data": {
      "text/html": [
       "<style>#sk-container-id-12 {color: black;background-color: white;}#sk-container-id-12 pre{padding: 0;}#sk-container-id-12 div.sk-toggleable {background-color: white;}#sk-container-id-12 label.sk-toggleable__label {cursor: pointer;display: block;width: 100%;margin-bottom: 0;padding: 0.3em;box-sizing: border-box;text-align: center;}#sk-container-id-12 label.sk-toggleable__label-arrow:before {content: \"▸\";float: left;margin-right: 0.25em;color: #696969;}#sk-container-id-12 label.sk-toggleable__label-arrow:hover:before {color: black;}#sk-container-id-12 div.sk-estimator:hover label.sk-toggleable__label-arrow:before {color: black;}#sk-container-id-12 div.sk-toggleable__content {max-height: 0;max-width: 0;overflow: hidden;text-align: left;background-color: #f0f8ff;}#sk-container-id-12 div.sk-toggleable__content pre {margin: 0.2em;color: black;border-radius: 0.25em;background-color: #f0f8ff;}#sk-container-id-12 input.sk-toggleable__control:checked~div.sk-toggleable__content {max-height: 200px;max-width: 100%;overflow: auto;}#sk-container-id-12 input.sk-toggleable__control:checked~label.sk-toggleable__label-arrow:before {content: \"▾\";}#sk-container-id-12 div.sk-estimator input.sk-toggleable__control:checked~label.sk-toggleable__label {background-color: #d4ebff;}#sk-container-id-12 div.sk-label input.sk-toggleable__control:checked~label.sk-toggleable__label {background-color: #d4ebff;}#sk-container-id-12 input.sk-hidden--visually {border: 0;clip: rect(1px 1px 1px 1px);clip: rect(1px, 1px, 1px, 1px);height: 1px;margin: -1px;overflow: hidden;padding: 0;position: absolute;width: 1px;}#sk-container-id-12 div.sk-estimator {font-family: monospace;background-color: #f0f8ff;border: 1px dotted black;border-radius: 0.25em;box-sizing: border-box;margin-bottom: 0.5em;}#sk-container-id-12 div.sk-estimator:hover {background-color: #d4ebff;}#sk-container-id-12 div.sk-parallel-item::after {content: \"\";width: 100%;border-bottom: 1px solid gray;flex-grow: 1;}#sk-container-id-12 div.sk-label:hover label.sk-toggleable__label {background-color: #d4ebff;}#sk-container-id-12 div.sk-serial::before {content: \"\";position: absolute;border-left: 1px solid gray;box-sizing: border-box;top: 0;bottom: 0;left: 50%;z-index: 0;}#sk-container-id-12 div.sk-serial {display: flex;flex-direction: column;align-items: center;background-color: white;padding-right: 0.2em;padding-left: 0.2em;position: relative;}#sk-container-id-12 div.sk-item {position: relative;z-index: 1;}#sk-container-id-12 div.sk-parallel {display: flex;align-items: stretch;justify-content: center;background-color: white;position: relative;}#sk-container-id-12 div.sk-item::before, #sk-container-id-12 div.sk-parallel-item::before {content: \"\";position: absolute;border-left: 1px solid gray;box-sizing: border-box;top: 0;bottom: 0;left: 50%;z-index: -1;}#sk-container-id-12 div.sk-parallel-item {display: flex;flex-direction: column;z-index: 1;position: relative;background-color: white;}#sk-container-id-12 div.sk-parallel-item:first-child::after {align-self: flex-end;width: 50%;}#sk-container-id-12 div.sk-parallel-item:last-child::after {align-self: flex-start;width: 50%;}#sk-container-id-12 div.sk-parallel-item:only-child::after {width: 0;}#sk-container-id-12 div.sk-dashed-wrapped {border: 1px dashed gray;margin: 0 0.4em 0.5em 0.4em;box-sizing: border-box;padding-bottom: 0.4em;background-color: white;}#sk-container-id-12 div.sk-label label {font-family: monospace;font-weight: bold;display: inline-block;line-height: 1.2em;}#sk-container-id-12 div.sk-label-container {text-align: center;}#sk-container-id-12 div.sk-container {/* jupyter's `normalize.less` sets `[hidden] { display: none; }` but bootstrap.min.css set `[hidden] { display: none !important; }` so we also need the `!important` here to be able to override the default hidden behavior on the sphinx rendered scikit-learn.org. See: https://github.com/scikit-learn/scikit-learn/issues/21755 */display: inline-block !important;position: relative;}#sk-container-id-12 div.sk-text-repr-fallback {display: none;}</style><div id=\"sk-container-id-12\" class=\"sk-top-container\"><div class=\"sk-text-repr-fallback\"><pre>DecisionTreeClassifier(max_depth=15, random_state=42)</pre><b>In a Jupyter environment, please rerun this cell to show the HTML representation or trust the notebook. <br />On GitHub, the HTML representation is unable to render, please try loading this page with nbviewer.org.</b></div><div class=\"sk-container\" hidden><div class=\"sk-item\"><div class=\"sk-estimator sk-toggleable\"><input class=\"sk-toggleable__control sk-hidden--visually\" id=\"sk-estimator-id-12\" type=\"checkbox\" checked><label for=\"sk-estimator-id-12\" class=\"sk-toggleable__label sk-toggleable__label-arrow\">DecisionTreeClassifier</label><div class=\"sk-toggleable__content\"><pre>DecisionTreeClassifier(max_depth=15, random_state=42)</pre></div></div></div></div></div>"
      ],
      "text/plain": [
       "DecisionTreeClassifier(max_depth=15, random_state=42)"
      ]
     },
     "execution_count": 90,
     "metadata": {},
     "output_type": "execute_result"
    }
   ],
   "source": [
    "# Messing around and trying with a Decision Tree\n",
    "tree = DecisionTreeClassifier(max_depth=15,random_state=42)\n",
    "tree.fit(features_preprocessed_pca,target)"
   ]
  },
  {
   "cell_type": "code",
   "execution_count": 91,
   "metadata": {},
   "outputs": [],
   "source": [
    "# Getting training scores\n",
    "train_pred = tree.predict(features_preprocessed_pca)\n",
    "train_probs = tree.predict_proba(features_preprocessed_pca)[:,1]\n",
    "\n",
    "# Getting the metrics\n",
    "train_brier = brier_score_loss(target,train_probs)\n",
    "train_accuracy = accuracy_score(target,train_pred)\n",
    "\n",
    "# Adding metrics to the dictionary\n",
    "model_list = metrics['Model']\n",
    "model_list.append('Decision Tree')\n",
    "metrics['Model'] = model_list\n",
    "train_briers = metrics['Brier Score Training']\n",
    "train_briers.append(train_brier)\n",
    "metrics['Brier Score Training'] = train_briers\n",
    "train_accuracies = metrics['Accuracy Training']\n",
    "train_accuracies.append(train_accuracy)\n",
    "metrics['Accuracy Training'] = train_accuracies"
   ]
  },
  {
   "cell_type": "code",
   "execution_count": 92,
   "metadata": {},
   "outputs": [],
   "source": [
    "# Getting the results and adding it to the dictionary\n",
    "results = cross_validate(tree,features_preprocessed_pca,target,scoring=['accuracy','neg_brier_score'],\n",
    "                         cv=5,n_jobs=-1)\n",
    "\n",
    "cv_briers = metrics['Mean Brier Score CV']\n",
    "cv_briers.append((-1*results['test_neg_brier_score']).mean())\n",
    "metrics['Mean Brier Score CV'] = cv_briers\n",
    "cv_accuracies = metrics['Mean Accuracy CV']\n",
    "cv_accuracies.append((results['test_accuracy']).mean())\n",
    "metrics['Mean Accuracy CV'] = cv_accuracies"
   ]
  },
  {
   "cell_type": "code",
   "execution_count": 97,
   "metadata": {},
   "outputs": [
    {
     "data": {
      "text/html": [
       "<style>#sk-container-id-14 {color: black;background-color: white;}#sk-container-id-14 pre{padding: 0;}#sk-container-id-14 div.sk-toggleable {background-color: white;}#sk-container-id-14 label.sk-toggleable__label {cursor: pointer;display: block;width: 100%;margin-bottom: 0;padding: 0.3em;box-sizing: border-box;text-align: center;}#sk-container-id-14 label.sk-toggleable__label-arrow:before {content: \"▸\";float: left;margin-right: 0.25em;color: #696969;}#sk-container-id-14 label.sk-toggleable__label-arrow:hover:before {color: black;}#sk-container-id-14 div.sk-estimator:hover label.sk-toggleable__label-arrow:before {color: black;}#sk-container-id-14 div.sk-toggleable__content {max-height: 0;max-width: 0;overflow: hidden;text-align: left;background-color: #f0f8ff;}#sk-container-id-14 div.sk-toggleable__content pre {margin: 0.2em;color: black;border-radius: 0.25em;background-color: #f0f8ff;}#sk-container-id-14 input.sk-toggleable__control:checked~div.sk-toggleable__content {max-height: 200px;max-width: 100%;overflow: auto;}#sk-container-id-14 input.sk-toggleable__control:checked~label.sk-toggleable__label-arrow:before {content: \"▾\";}#sk-container-id-14 div.sk-estimator input.sk-toggleable__control:checked~label.sk-toggleable__label {background-color: #d4ebff;}#sk-container-id-14 div.sk-label input.sk-toggleable__control:checked~label.sk-toggleable__label {background-color: #d4ebff;}#sk-container-id-14 input.sk-hidden--visually {border: 0;clip: rect(1px 1px 1px 1px);clip: rect(1px, 1px, 1px, 1px);height: 1px;margin: -1px;overflow: hidden;padding: 0;position: absolute;width: 1px;}#sk-container-id-14 div.sk-estimator {font-family: monospace;background-color: #f0f8ff;border: 1px dotted black;border-radius: 0.25em;box-sizing: border-box;margin-bottom: 0.5em;}#sk-container-id-14 div.sk-estimator:hover {background-color: #d4ebff;}#sk-container-id-14 div.sk-parallel-item::after {content: \"\";width: 100%;border-bottom: 1px solid gray;flex-grow: 1;}#sk-container-id-14 div.sk-label:hover label.sk-toggleable__label {background-color: #d4ebff;}#sk-container-id-14 div.sk-serial::before {content: \"\";position: absolute;border-left: 1px solid gray;box-sizing: border-box;top: 0;bottom: 0;left: 50%;z-index: 0;}#sk-container-id-14 div.sk-serial {display: flex;flex-direction: column;align-items: center;background-color: white;padding-right: 0.2em;padding-left: 0.2em;position: relative;}#sk-container-id-14 div.sk-item {position: relative;z-index: 1;}#sk-container-id-14 div.sk-parallel {display: flex;align-items: stretch;justify-content: center;background-color: white;position: relative;}#sk-container-id-14 div.sk-item::before, #sk-container-id-14 div.sk-parallel-item::before {content: \"\";position: absolute;border-left: 1px solid gray;box-sizing: border-box;top: 0;bottom: 0;left: 50%;z-index: -1;}#sk-container-id-14 div.sk-parallel-item {display: flex;flex-direction: column;z-index: 1;position: relative;background-color: white;}#sk-container-id-14 div.sk-parallel-item:first-child::after {align-self: flex-end;width: 50%;}#sk-container-id-14 div.sk-parallel-item:last-child::after {align-self: flex-start;width: 50%;}#sk-container-id-14 div.sk-parallel-item:only-child::after {width: 0;}#sk-container-id-14 div.sk-dashed-wrapped {border: 1px dashed gray;margin: 0 0.4em 0.5em 0.4em;box-sizing: border-box;padding-bottom: 0.4em;background-color: white;}#sk-container-id-14 div.sk-label label {font-family: monospace;font-weight: bold;display: inline-block;line-height: 1.2em;}#sk-container-id-14 div.sk-label-container {text-align: center;}#sk-container-id-14 div.sk-container {/* jupyter's `normalize.less` sets `[hidden] { display: none; }` but bootstrap.min.css set `[hidden] { display: none !important; }` so we also need the `!important` here to be able to override the default hidden behavior on the sphinx rendered scikit-learn.org. See: https://github.com/scikit-learn/scikit-learn/issues/21755 */display: inline-block !important;position: relative;}#sk-container-id-14 div.sk-text-repr-fallback {display: none;}</style><div id=\"sk-container-id-14\" class=\"sk-top-container\"><div class=\"sk-text-repr-fallback\"><pre>SVC(C=0.5, degree=10, kernel=&#x27;poly&#x27;, probability=True, random_state=42)</pre><b>In a Jupyter environment, please rerun this cell to show the HTML representation or trust the notebook. <br />On GitHub, the HTML representation is unable to render, please try loading this page with nbviewer.org.</b></div><div class=\"sk-container\" hidden><div class=\"sk-item\"><div class=\"sk-estimator sk-toggleable\"><input class=\"sk-toggleable__control sk-hidden--visually\" id=\"sk-estimator-id-14\" type=\"checkbox\" checked><label for=\"sk-estimator-id-14\" class=\"sk-toggleable__label sk-toggleable__label-arrow\">SVC</label><div class=\"sk-toggleable__content\"><pre>SVC(C=0.5, degree=10, kernel=&#x27;poly&#x27;, probability=True, random_state=42)</pre></div></div></div></div></div>"
      ],
      "text/plain": [
       "SVC(C=0.5, degree=10, kernel='poly', probability=True, random_state=42)"
      ]
     },
     "execution_count": 97,
     "metadata": {},
     "output_type": "execute_result"
    }
   ],
   "source": [
    "svc = SVC(C=0.5,kernel='poly',degree=10,random_state=42,probability=True)\n",
    "svc.fit(features_preprocessed_pca,target)"
   ]
  },
  {
   "cell_type": "code",
   "execution_count": 98,
   "metadata": {},
   "outputs": [],
   "source": [
    "# Getting training scores\n",
    "train_pred = svc.predict(features_preprocessed_pca)\n",
    "train_probs = svc.predict_proba(features_preprocessed_pca)[:,1]\n",
    "\n",
    "# Getting the metrics\n",
    "train_brier = brier_score_loss(target,train_probs)\n",
    "train_accuracy = accuracy_score(target,train_pred)\n",
    "\n",
    "# Adding metrics to the dictionary\n",
    "model_list = metrics['Model']\n",
    "model_list.append('Support Vector Classifier')\n",
    "metrics['Model'] = model_list\n",
    "train_briers = metrics['Brier Score Training']\n",
    "train_briers.append(train_brier)\n",
    "metrics['Brier Score Training'] = train_briers\n",
    "train_accuracies = metrics['Accuracy Training']\n",
    "train_accuracies.append(train_accuracy)\n",
    "metrics['Accuracy Training'] = train_accuracies"
   ]
  },
  {
   "cell_type": "code",
   "execution_count": 99,
   "metadata": {},
   "outputs": [],
   "source": [
    "# Getting the results and adding it to the dictionary\n",
    "results = cross_validate(svc,features_preprocessed_pca,target,scoring=['accuracy','neg_brier_score'],\n",
    "                         cv=5,n_jobs=-1)\n",
    "\n",
    "cv_briers = metrics['Mean Brier Score CV']\n",
    "cv_briers.append((-1*results['test_neg_brier_score']).mean())\n",
    "metrics['Mean Brier Score CV'] = cv_briers\n",
    "cv_accuracies = metrics['Mean Accuracy CV']\n",
    "cv_accuracies.append((results['test_accuracy']).mean())\n",
    "metrics['Mean Accuracy CV'] = cv_accuracies"
   ]
  },
  {
   "cell_type": "code",
   "execution_count": 100,
   "metadata": {},
   "outputs": [
    {
     "data": {
      "text/html": [
       "<div>\n",
       "<style scoped>\n",
       "    .dataframe tbody tr th:only-of-type {\n",
       "        vertical-align: middle;\n",
       "    }\n",
       "\n",
       "    .dataframe tbody tr th {\n",
       "        vertical-align: top;\n",
       "    }\n",
       "\n",
       "    .dataframe thead th {\n",
       "        text-align: right;\n",
       "    }\n",
       "</style>\n",
       "<table border=\"1\" class=\"dataframe\">\n",
       "  <thead>\n",
       "    <tr style=\"text-align: right;\">\n",
       "      <th></th>\n",
       "      <th>Model</th>\n",
       "      <th>Brier Score Training</th>\n",
       "      <th>Mean Brier Score CV</th>\n",
       "      <th>Accuracy Training</th>\n",
       "      <th>Mean Accuracy CV</th>\n",
       "    </tr>\n",
       "  </thead>\n",
       "  <tbody>\n",
       "    <tr>\n",
       "      <th>0</th>\n",
       "      <td>Logistic Regression</td>\n",
       "      <td>0.17628</td>\n",
       "      <td>0.20576</td>\n",
       "      <td>0.72976</td>\n",
       "      <td>0.67439</td>\n",
       "    </tr>\n",
       "    <tr>\n",
       "      <th>1</th>\n",
       "      <td>Random Forest</td>\n",
       "      <td>0.05549</td>\n",
       "      <td>0.22528</td>\n",
       "      <td>1.00000</td>\n",
       "      <td>0.66254</td>\n",
       "    </tr>\n",
       "    <tr>\n",
       "      <th>2</th>\n",
       "      <td>Decision Tree</td>\n",
       "      <td>0.00000</td>\n",
       "      <td>0.40970</td>\n",
       "      <td>1.00000</td>\n",
       "      <td>0.59030</td>\n",
       "    </tr>\n",
       "    <tr>\n",
       "      <th>3</th>\n",
       "      <td>Decision Tree</td>\n",
       "      <td>0.01959</td>\n",
       "      <td>0.40761</td>\n",
       "      <td>0.97509</td>\n",
       "      <td>0.58593</td>\n",
       "    </tr>\n",
       "    <tr>\n",
       "      <th>4</th>\n",
       "      <td>Decision Tree</td>\n",
       "      <td>0.24337</td>\n",
       "      <td>0.24915</td>\n",
       "      <td>0.73537</td>\n",
       "      <td>0.50872</td>\n",
       "    </tr>\n",
       "  </tbody>\n",
       "</table>\n",
       "</div>"
      ],
      "text/plain": [
       "                 Model  Brier Score Training  Mean Brier Score CV  \\\n",
       "0  Logistic Regression               0.17628              0.20576   \n",
       "1        Random Forest               0.05549              0.22528   \n",
       "2        Decision Tree               0.00000              0.40970   \n",
       "3        Decision Tree               0.01959              0.40761   \n",
       "4        Decision Tree               0.24337              0.24915   \n",
       "\n",
       "   Accuracy Training  Mean Accuracy CV  \n",
       "0            0.72976           0.67439  \n",
       "1            1.00000           0.66254  \n",
       "2            1.00000           0.59030  \n",
       "3            0.97509           0.58593  \n",
       "4            0.73537           0.50872  "
      ]
     },
     "execution_count": 100,
     "metadata": {},
     "output_type": "execute_result"
    }
   ],
   "source": [
    "# Converting metrics into a dataframe\n",
    "pd.options.display.float_format = '{:.5f}'.format # Making sure it doesn't display in scientific notation\n",
    "metrics_df = pd.DataFrame(metrics)\n",
    "metrics_df"
   ]
  },
  {
   "cell_type": "code",
   "execution_count": null,
   "metadata": {},
   "outputs": [],
   "source": []
  }
 ],
 "metadata": {
  "kernelspec": {
   "display_name": "march-madness-mania",
   "language": "python",
   "name": "python3"
  },
  "language_info": {
   "codemirror_mode": {
    "name": "ipython",
    "version": 3
   },
   "file_extension": ".py",
   "mimetype": "text/x-python",
   "name": "python",
   "nbconvert_exporter": "python",
   "pygments_lexer": "ipython3",
   "version": "3.10.9"
  },
  "orig_nbformat": 4,
  "vscode": {
   "interpreter": {
    "hash": "cd35a392fde1dc673d11d63530ba2243a9ec2532d473e3b8a20605e035add6e4"
   }
  }
 },
 "nbformat": 4,
 "nbformat_minor": 2
}
